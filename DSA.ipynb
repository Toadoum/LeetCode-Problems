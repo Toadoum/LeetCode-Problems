{
  "nbformat": 4,
  "nbformat_minor": 0,
  "metadata": {
    "colab": {
      "name": "DSA.ipynb",
      "provenance": [],
      "authorship_tag": "ABX9TyME6vSRPJwHRyxo6xPH6MpF",
      "include_colab_link": true
    },
    "kernelspec": {
      "name": "python3",
      "display_name": "Python 3"
    },
    "language_info": {
      "name": "python"
    }
  },
  "cells": [
    {
      "cell_type": "markdown",
      "metadata": {
        "id": "view-in-github",
        "colab_type": "text"
      },
      "source": [
        "<a href=\"https://colab.research.google.com/github/Toadoum/LeetCode-Problems/blob/main/DSA.ipynb\" target=\"_parent\"><img src=\"https://colab.research.google.com/assets/colab-badge.svg\" alt=\"Open In Colab\"/></a>"
      ]
    },
    {
      "cell_type": "markdown",
      "source": [
        "# **ARRAYS**"
      ],
      "metadata": {
        "id": "_acPkYlj9cKc"
      }
    },
    {
      "cell_type": "markdown",
      "source": [
        "## LEVEL: EASY"
      ],
      "metadata": {
        "id": "WHeU45TE-EOi"
      }
    },
    {
      "cell_type": "markdown",
      "source": [
        "### Merge two sorted arrays, LeetCode Problem 88\n",
        "\n",
        "You are given two integer arrays $nums1$ and $nums2$, sorted in non-decreasing order, and two integers $m$ and $n$, representing the number of elements in $nums1$ and $nums2$ respectively.\n",
        "\n",
        "Merge $nums1$ and $nums2$ into a single array sorted in non-decreasing order.\n",
        "\n",
        "The final sorted array should not be returned by the function, but instead be stored inside the array nums1. To accommodate this, $nums1$ has a length of $m + n$, where the first $m$ elements denote the elements that should be merged, and the last $n$ elements are set to $0$ and should be ignored. $nums2$ has a length of $n$.\n",
        "\n",
        "Input: $nums1 = [1,2,3,0,0,0]$, $m = 3$, $nums2 = [2,5,6]$, $n = 3$\n",
        "\n",
        "Output: [1,2,2,3,5,6]\n",
        "\n",
        "Explanation: The arrays we are merging are [1,2,3] and [2,5,6].\n",
        "The result of the merge is $[1,2,2,3,5,6]$ with the underlined elements coming from nums1.\n",
        "\n",
        "### **Summary**\n",
        "\n",
        "We are dealing with a sorted array and the problem should be solved in place (by adding elements to the first list because it has enough space to store elements of the second list). We use two pointers $m$ for elements that are already in nums1 and $n$ for elements in nums2 to help us make a comparison between elements and insert them in the right place or move them in case the integer is not in the right place. For moving, we use the variable $idx=len(nums1)-1$ because index start at zero, the same thing for the two pointers $m$ and $n$. The philosophy here is that, as long as $m$ and $n$ are greater than zero and we will compare elements from the two lists and store them and decrement pointers based on the true condition. for instance if $nums1[m-1]>nums[n-1]$, we will store the element before in nums1 and decrement the pointer $n$. The time complexity is $O(n\\times m)$"
      ],
      "metadata": {
        "id": "ChTTGrrTsDBQ"
      }
    },
    {
      "cell_type": "code",
      "execution_count": null,
      "metadata": {
        "id": "ZSbL_Nikr_77"
      },
      "outputs": [],
      "source": [
        "def merge_sort(nums1,nums2,n,m):\n",
        "  idx=len(nums1)-1\n",
        "  while n>0 and m>0:\n",
        "    #As long as the condition is true, we will take elements for nums1\n",
        "    if nums1[m-1]>nums2[n-1]:\n",
        "      nums1[idx]=nums1[m-1]\n",
        "      m-=1 \n",
        "    else:\n",
        "      nums1[idx]=nums2[n-1]\n",
        "      n-=1\n",
        "    idx-=1\n",
        "  #this is to handle the case where the smallest value will be in the second list\n",
        "  #we are working inplace\n",
        "  while n>0:\n",
        "      nums1[idx]=nums2[n]\n",
        "      n,idx=n-1,idx-1"
      ]
    },
    {
      "cell_type": "code",
      "source": [
        "nums1=[1,2,3,0,0,0]\n",
        "nums2=[2,5,6]"
      ],
      "metadata": {
        "id": "BOM4GmOm7kaa"
      },
      "execution_count": null,
      "outputs": []
    },
    {
      "cell_type": "code",
      "source": [
        "merge_sort(nums1,nums2,3,3)"
      ],
      "metadata": {
        "id": "8eBI4fGt78cm"
      },
      "execution_count": null,
      "outputs": []
    },
    {
      "cell_type": "code",
      "source": [
        "print(nums1)"
      ],
      "metadata": {
        "colab": {
          "base_uri": "https://localhost:8080/"
        },
        "id": "EdjTn2lrAYvi",
        "outputId": "d03503d2-f88e-4716-95a4-b681dc3aa2ba"
      },
      "execution_count": null,
      "outputs": [
        {
          "output_type": "stream",
          "name": "stdout",
          "text": [
            "[1, 2, 2, 3, 5, 6]\n"
          ]
        }
      ]
    },
    {
      "cell_type": "markdown",
      "source": [
        "### 977. Squares of a Sorted Array\n",
        "\n",
        "Given an integer array nums sorted in non-decreasing order, return an array of the squares of each number sorted in non-decreasing order.\n",
        "\n",
        "Input: $nums = [-4,-1,0,3,10]$\n",
        "\n",
        "Output: $[0,1,9,16,100]$\n",
        "\n",
        "Explanation: After squaring, the array becomes $[16,1,0,9,100]$.\n",
        "After sorting, it becomes $[0,1,9,16,100]$."
      ],
      "metadata": {
        "id": "eFjl0OmLFh0D"
      }
    },
    {
      "cell_type": "markdown",
      "source": [
        "### **Summary**\n",
        "\n",
        "Here we loop over the list and for each element in the list, we take the square and we return a sorted list. The time complexity is $O(n)$."
      ],
      "metadata": {
        "id": "7Ip8wNUpH__u"
      }
    },
    {
      "cell_type": "code",
      "source": [
        "def sortedSquares(nums):\n",
        "        \"\"\"\n",
        "        :type nums: List[int]\n",
        "        :rtype: List[int]\n",
        "        \"\"\"\n",
        "        square_list=[num**2 for num in nums]\n",
        "        return sorted(square_list)\n"
      ],
      "metadata": {
        "id": "Cl_wutrVGKf1"
      },
      "execution_count": null,
      "outputs": []
    },
    {
      "cell_type": "code",
      "source": [
        "nums = [-4,-1,0,3,10]"
      ],
      "metadata": {
        "id": "0v8o_HfiGXeH"
      },
      "execution_count": null,
      "outputs": []
    },
    {
      "cell_type": "code",
      "source": [
        "sortedSquares(nums)"
      ],
      "metadata": {
        "colab": {
          "base_uri": "https://localhost:8080/"
        },
        "id": "hjdO9uihGj6b",
        "outputId": "ccf5f571-40d7-4aef-e8b7-37643cd0b20c"
      },
      "execution_count": null,
      "outputs": [
        {
          "output_type": "execute_result",
          "data": {
            "text/plain": [
              "[0, 1, 9, 16, 100]"
            ]
          },
          "metadata": {},
          "execution_count": 17
        }
      ]
    },
    {
      "cell_type": "markdown",
      "source": [
        "### Remove duplicates from sorted array\n",
        "\n",
        "Given an integer array nums sorted in non-decreasing order, remove the duplicates in-place such that each unique element appears only once. The relative order of the elements should be kept the same.\n",
        "\n",
        "Since it is impossible to change the length of the array in some languages, you must instead have the result be placed in the first part of the array nums. More formally, if there are $k$ elements after removing the duplicates, then the first $k$ elements of nums should hold the final result. It does not matter what you leave beyond the first $k$ elements.\n",
        "\n",
        "Return k after placing the final result in the first k slots of nums.\n",
        "\n",
        "Do not allocate extra space for another array. You must do this by modifying the input array inplace with $O(1)$ extra memory.\n",
        "\n",
        "Input: $nums = [1,1,2]$\n",
        "\n",
        "Output: $2$, $nums = [1,2,\\_]$\n",
        "Explanation: Your function should return $k = 2$, with the first two elements of nums being $1$ and $2$ respectively.\n",
        "It does not matter what you leave beyond the returned k (hence they are underscores).\n",
        "\n"
      ],
      "metadata": {
        "id": "ygeLSkmUCBXF"
      }
    },
    {
      "cell_type": "markdown",
      "source": [
        "### **Summary**\n",
        "\n",
        "Here the problem is simple, as the index starts by zero, we just create a variable that takes the values that is the range of the length of the list -1 but in reverse order to avoid out of index error. We will just check from the last to the beginning two by two integers and delete one if they are the same. The time complexity is $O(n)$"
      ],
      "metadata": {
        "id": "qnrZ6w-tG6Hh"
      }
    },
    {
      "cell_type": "code",
      "source": [
        "def R_duplicates(nums):\n",
        "    for i in range(len(nums)-1,0,-1):\n",
        "        if nums[i] == nums[i-1]:\n",
        "            del nums[i]"
      ],
      "metadata": {
        "id": "jDa3VkbwCu_i"
      },
      "execution_count": null,
      "outputs": []
    },
    {
      "cell_type": "code",
      "source": [
        "nums=[1,1,2]"
      ],
      "metadata": {
        "id": "lIcmlqJmDy6x"
      },
      "execution_count": null,
      "outputs": []
    },
    {
      "cell_type": "code",
      "source": [
        "R_duplicates(nums)"
      ],
      "metadata": {
        "id": "F7avQpYMD6sE"
      },
      "execution_count": null,
      "outputs": []
    },
    {
      "cell_type": "code",
      "source": [
        "print(nums)"
      ],
      "metadata": {
        "colab": {
          "base_uri": "https://localhost:8080/"
        },
        "id": "YqkXEIGHELIc",
        "outputId": "98366c8a-17c9-45b2-d9f1-fcbea20a239d"
      },
      "execution_count": null,
      "outputs": [
        {
          "output_type": "stream",
          "name": "stdout",
          "text": [
            "[1, 2]\n"
          ]
        }
      ]
    },
    {
      "cell_type": "code",
      "source": [
        "num=[0,0,1,1,1,2,2,3,3,4]"
      ],
      "metadata": {
        "id": "ckB3CVHSEN3X"
      },
      "execution_count": null,
      "outputs": []
    },
    {
      "cell_type": "code",
      "source": [
        "R_duplicates(num)"
      ],
      "metadata": {
        "id": "XEVNyiTdEZo1"
      },
      "execution_count": null,
      "outputs": []
    },
    {
      "cell_type": "code",
      "source": [
        "print(num)"
      ],
      "metadata": {
        "colab": {
          "base_uri": "https://localhost:8080/"
        },
        "id": "1-ezOcO3Eizk",
        "outputId": "415a6443-0f19-4bf7-bb7a-2f370018da41"
      },
      "execution_count": null,
      "outputs": [
        {
          "output_type": "stream",
          "name": "stdout",
          "text": [
            "[0, 1, 2, 3, 4]\n"
          ]
        }
      ]
    },
    {
      "cell_type": "markdown",
      "source": [
        "### 35. Search Insert Position\n",
        "\n",
        "Given a sorted array of distinct integers and a target value, return the index if the target is found. If not, return the index where it would be if it were inserted in order.\n",
        "\n",
        "You must write an algorithm with O(log n) runtime complexity.\n",
        "\n",
        "Input: $nums = [1,3,5,6]$, $target = 5$\n",
        "Output: $2$\n",
        "\n",
        "### **Summary**\n",
        "\n",
        "Here we test for an element in a list, if this element equal to the target, we return his index, if not, we append the new element to the list and return his index. The time complexity is $O(n)$"
      ],
      "metadata": {
        "id": "JNLgj0Wuy1Ae"
      }
    },
    {
      "cell_type": "code",
      "source": [
        "def searchInsert(nums, target):\n",
        "    if target in nums:\n",
        "        return nums.index(target)\n",
        "    else:\n",
        "        nums.append(target)\n",
        "        nums.sort()\n",
        "        return(nums.index(target))"
      ],
      "metadata": {
        "id": "jyQrjGYFydBO"
      },
      "execution_count": null,
      "outputs": []
    },
    {
      "cell_type": "code",
      "source": [
        "nums=[1,3,5,6]\n",
        "target=5\n",
        "print(searchInsert(nums,target))"
      ],
      "metadata": {
        "colab": {
          "base_uri": "https://localhost:8080/"
        },
        "id": "FJ7fwhgozmq3",
        "outputId": "ec6173a2-93f0-44d5-acff-902054fce521"
      },
      "execution_count": null,
      "outputs": [
        {
          "output_type": "stream",
          "name": "stdout",
          "text": [
            "2\n"
          ]
        }
      ]
    },
    {
      "cell_type": "markdown",
      "source": [
        "## 53. Maximum Subarray\n",
        "\n",
        "Given an integer array nums, find the contiguous subarray (containing at least one number) which has the largest sum and return its sum.\n",
        "\n",
        "A subarray is a contiguous part of an array."
      ],
      "metadata": {
        "id": "IBnKFrTa9wXT"
      }
    },
    {
      "cell_type": "markdown",
      "source": [
        "Input: $nums = [-2,1,-3,4,-1,2,1,-5,4]$\n",
        "\n",
        "Output: $6$\n",
        "\n",
        "Explanation: $[4,-1,2,1]$ has the largest $sum = 6$."
      ],
      "metadata": {
        "id": "5OpO1YTA-PgI"
      }
    },
    {
      "cell_type": "markdown",
      "source": [
        "### **Summary**\n",
        "\n",
        "This function is simple. To get a subarray with a maximum sum, we start by assigning the first element in the list as a maximum now we will slide the window in the whole list with a step of one. We add one value to the initial value. If the result is less than one we reset the variable to zero and we take the maximum between the variable and the result of our sum till the end of the list till we return only the maximum value. The time complexity is $O(n)$ because of the for loop"
      ],
      "metadata": {
        "id": "URtxyjIxkkQw"
      }
    },
    {
      "cell_type": "code",
      "source": [
        "def maxSubArray(nums):\n",
        "    \"\"\"\n",
        "    :type nums: List[int]\n",
        "    :rtype: int\n",
        "    \"\"\"\n",
        "    maxsub=nums[0]\n",
        "    Sum=0\n",
        "    for i in nums:\n",
        "        if Sum<0:\n",
        "            Sum=0\n",
        "        Sum+=i\n",
        "        maxsub=max(maxsub,Sum)\n",
        "    return maxsub"
      ],
      "metadata": {
        "id": "3YvNiqV27tKS"
      },
      "execution_count": null,
      "outputs": []
    },
    {
      "cell_type": "code",
      "source": [
        "nums = [-2,1,-3,4,-1,2,1,-5,4]"
      ],
      "metadata": {
        "id": "dpigz9n-_ZA_"
      },
      "execution_count": null,
      "outputs": []
    },
    {
      "cell_type": "code",
      "source": [
        "maxSubArray(nums)"
      ],
      "metadata": {
        "colab": {
          "base_uri": "https://localhost:8080/"
        },
        "id": "h882UTiL_ehq",
        "outputId": "d628e9a9-d706-4bf2-bf0a-4df5241d09c5"
      },
      "execution_count": null,
      "outputs": [
        {
          "output_type": "execute_result",
          "data": {
            "text/plain": [
              "6"
            ]
          },
          "metadata": {},
          "execution_count": 3
        }
      ]
    },
    {
      "cell_type": "markdown",
      "source": [
        "### 169. Majority Element"
      ],
      "metadata": {
        "id": "dxy2a1pA7zzg"
      }
    },
    {
      "cell_type": "markdown",
      "source": [
        "Given an array nums of size n, return the majority element.\n",
        "\n",
        "The majority element is the element that appears more than $[n / 2]$ times. You may assume that the majority element always exists in the array.\n",
        "\n",
        "Input: $nums = [3,2,3]$\n",
        "\n",
        "Output: $3$\n"
      ],
      "metadata": {
        "id": "uPkrLCzQk0BR"
      }
    },
    {
      "cell_type": "markdown",
      "source": [
        "This solution will give Time Limit Exceeded in Leetcode"
      ],
      "metadata": {
        "id": "SzceGeLB2Qvq"
      }
    },
    {
      "cell_type": "markdown",
      "source": [
        "### **Summary**\n",
        "\n",
        "The simplest solution here is to sort the array and return the array at the position $len(nums)//2$ because by sorting the array, are sure that at $len(nums)//2$ we have the majority element.\n",
        "\n",
        "The fastest solution is using dictionnary. We just initialize a dictionnary by checking if an element is not in the dictionary, we append one (incrementation) as value and we check everytime if the value for this element is greater than $len(nums)//2$ if it is, then it is our majority element. The time complexity is $O(n)$."
      ],
      "metadata": {
        "id": "fINDVv0gk71i"
      }
    },
    {
      "cell_type": "code",
      "source": [
        "def majorityElement(nums):\n",
        "  \"\"\"\n",
        "  :type nums: List[int]\n",
        "  :rtype: int\n",
        "  \"\"\"\n",
        "  my_dic = {ele:nums.count(ele) for ele in nums}\n",
        "  v = list(my_dic.values())\n",
        "  k = list(my_dic.keys())\n",
        "  return k[v.index(max(v))]"
      ],
      "metadata": {
        "id": "_0l0DxTM9aOr"
      },
      "execution_count": null,
      "outputs": []
    },
    {
      "cell_type": "code",
      "source": [
        "nums = [3,2,3]"
      ],
      "metadata": {
        "id": "kZgRSdjfqGf7"
      },
      "execution_count": null,
      "outputs": []
    },
    {
      "cell_type": "code",
      "source": [
        "majorityElement(nums)"
      ],
      "metadata": {
        "colab": {
          "base_uri": "https://localhost:8080/"
        },
        "id": "If66xuEpqBhS",
        "outputId": "8e03f356-e748-497d-c440-933ff394ae4d"
      },
      "execution_count": null,
      "outputs": [
        {
          "output_type": "execute_result",
          "data": {
            "text/plain": [
              "3"
            ]
          },
          "metadata": {},
          "execution_count": 58
        }
      ]
    },
    {
      "cell_type": "code",
      "source": [
        "nums1=[2,2,1,1,1,2,2]"
      ],
      "metadata": {
        "id": "fuZU-rySu4Fg"
      },
      "execution_count": null,
      "outputs": []
    },
    {
      "cell_type": "code",
      "source": [
        "majorityElement(nums1)"
      ],
      "metadata": {
        "colab": {
          "base_uri": "https://localhost:8080/"
        },
        "id": "6-eTEIfgu9pd",
        "outputId": "c4d000c1-9adc-4599-90d8-d9cd28ee78dd"
      },
      "execution_count": null,
      "outputs": [
        {
          "output_type": "execute_result",
          "data": {
            "text/plain": [
              "2"
            ]
          },
          "metadata": {},
          "execution_count": 60
        }
      ]
    },
    {
      "cell_type": "code",
      "source": [
        "def majorityElement(nums):\n",
        "    \"\"\"\n",
        "    :type nums: List[int]\n",
        "    :rtype: int\n",
        "    \"\"\"\n",
        "    my_dic={}\n",
        "    for num in nums:\n",
        "        if num not in my_dic:\n",
        "            my_dic[num]=1\n",
        "        if my_dic[num]>len(nums)//2:\n",
        "            return num\n",
        "        else:\n",
        "            my_dic[num]+=1"
      ],
      "metadata": {
        "id": "y6grGK3kkFdU"
      },
      "execution_count": null,
      "outputs": []
    },
    {
      "cell_type": "code",
      "source": [
        "nums1=[2,2,1,1,1,2,2]"
      ],
      "metadata": {
        "id": "PpxN2872krKi"
      },
      "execution_count": null,
      "outputs": []
    },
    {
      "cell_type": "code",
      "source": [
        "majorityElement(nums1)"
      ],
      "metadata": {
        "colab": {
          "base_uri": "https://localhost:8080/"
        },
        "id": "bj7HTrafkujw",
        "outputId": "5904b687-5801-44c7-bc3f-12972d8aac91"
      },
      "execution_count": null,
      "outputs": [
        {
          "output_type": "execute_result",
          "data": {
            "text/plain": [
              "2"
            ]
          },
          "metadata": {},
          "execution_count": 3
        }
      ]
    },
    {
      "cell_type": "code",
      "source": [
        "def majorityElement(nums):\n",
        "    \"\"\"\n",
        "    :type nums: List[int]\n",
        "    :rtype: int\n",
        "    \"\"\"\n",
        "    nums.sort()\n",
        "    return nums[len(nums)//2]"
      ],
      "metadata": {
        "id": "CUMxspOSkhTF"
      },
      "execution_count": null,
      "outputs": []
    },
    {
      "cell_type": "code",
      "source": [
        "nums1=[2,2,1,1,1,2,2]\n",
        "nums1.sort()\n",
        "nums1"
      ],
      "metadata": {
        "colab": {
          "base_uri": "https://localhost:8080/"
        },
        "id": "MEU1oA4mkw9s",
        "outputId": "f1896a22-9120-4c19-bd3c-a7d49bf86f85"
      },
      "execution_count": null,
      "outputs": [
        {
          "output_type": "execute_result",
          "data": {
            "text/plain": [
              "[1, 1, 1, 2, 2, 2, 2]"
            ]
          },
          "metadata": {},
          "execution_count": 9
        }
      ]
    },
    {
      "cell_type": "code",
      "source": [
        "majorityElement(nums1)"
      ],
      "metadata": {
        "colab": {
          "base_uri": "https://localhost:8080/"
        },
        "id": "liQVQXJBk3Xy",
        "outputId": "358db0f4-44b4-4c9c-8b97-54f05bf9b677"
      },
      "execution_count": null,
      "outputs": [
        {
          "output_type": "execute_result",
          "data": {
            "text/plain": [
              "2"
            ]
          },
          "metadata": {},
          "execution_count": 6
        }
      ]
    },
    {
      "cell_type": "markdown",
      "source": [
        "## LEVEL: MEDIUM"
      ],
      "metadata": {
        "id": "OI9J4O5cRrsJ"
      }
    },
    {
      "cell_type": "markdown",
      "source": [
        "## 238. Product of Array Except Self\n",
        "\n",
        "Given an integer array nums, return an array answer such that answer[i] is equal to the product of all the elements of nums except $nums[i]$.\n",
        "\n",
        "The product of any prefix or suffix of nums is guaranteed to fit in a 32-bit integer.\n",
        "\n",
        "You must write an algorithm that runs in $O(n)$ time and without using the division operation.\n",
        "\n"
      ],
      "metadata": {
        "id": "JXbFps74PfXu"
      }
    },
    {
      "cell_type": "markdown",
      "source": [
        "\n",
        "Input: $nums = [1,2,3,4]$\n",
        "\n",
        "Output: $[24,12,8,6]$"
      ],
      "metadata": {
        "id": "TQmOmyhrP7EW"
      }
    },
    {
      "cell_type": "markdown",
      "source": [
        "### **Summary**"
      ],
      "metadata": {
        "id": "G6CAmUgEP9Fi"
      }
    },
    {
      "cell_type": "code",
      "source": [
        "def productExceptSelf(nums):\n",
        "    \"\"\"\n",
        "    :type nums: List[int]\n",
        "    :rtype: List[int]\n",
        "    \"\"\"\n",
        "    n=len(nums)\n",
        "    output=[]\n",
        "    p=1\n",
        "      #scan from left to i\n",
        "    for i in range(n):\n",
        "        output.append(p)\n",
        "        p = p * nums[i]\n",
        "    p = 1\n",
        "    #scan from right to i\n",
        "    for i in range(n-1,-1,-1):\n",
        "        output[i] = output[i] * p\n",
        "        p = p * nums[i]\n",
        "    return output"
      ],
      "metadata": {
        "id": "JUBrbWoYPJan"
      },
      "execution_count": null,
      "outputs": []
    },
    {
      "cell_type": "code",
      "source": [
        "nums = [1,2,3,4]"
      ],
      "metadata": {
        "id": "_Xas7V0fQXpc"
      },
      "execution_count": null,
      "outputs": []
    },
    {
      "cell_type": "code",
      "source": [
        "productExceptSelf(nums)"
      ],
      "metadata": {
        "colab": {
          "base_uri": "https://localhost:8080/"
        },
        "id": "6d3Ywlw_QaTN",
        "outputId": "9236adde-3aac-4f3e-9a2f-7c7b350306e9"
      },
      "execution_count": null,
      "outputs": [
        {
          "output_type": "execute_result",
          "data": {
            "text/plain": [
              "[24, 12, 8, 6]"
            ]
          },
          "metadata": {},
          "execution_count": 3
        }
      ]
    },
    {
      "cell_type": "markdown",
      "source": [
        "# **BINARY SEARCH**"
      ],
      "metadata": {
        "id": "Nad8hct8Qbau"
      }
    },
    {
      "cell_type": "markdown",
      "source": [
        "## 704. Binary Search"
      ],
      "metadata": {
        "id": "PtGY51VmkJqh"
      }
    },
    {
      "cell_type": "markdown",
      "source": [
        "Given an array of integers nums which is sorted in ascending order, and an integer target, write a function to search target in nums. If target exists, then return its index. Otherwise, return $-1$.\n",
        "\n",
        "You must write an algorithm with $O(log n)$ runtime complexity."
      ],
      "metadata": {
        "id": "6zpQ9OVQgGDl"
      }
    },
    {
      "cell_type": "markdown",
      "source": [
        "Input: $nums = [-1,0,3,5,9,12]$, $target = 9$\n",
        "\n",
        "Output: $4$\n",
        "\n",
        "Explanation: $9$ exists in nums and its index is $4$"
      ],
      "metadata": {
        "id": "TezzWb-WgUzV"
      }
    },
    {
      "cell_type": "markdown",
      "source": [
        "## **Summary**\n",
        "\n",
        "In binary search algorithm, the algorithm work at follows:\n",
        "* We initialize three-pointers: the upper bound, the lower bound, and the middle.\n",
        "* We check if the value of the array at the index middle is the value we are looking for.\n",
        "* If the value is less than the value we are looking for, then we will change the lower bound to the position middle+1 (because all the values from the middle till the beginning are smaller than the target). If it is not the case then the value is greater than the target, we will shift the upper bound to the position middle-1.\n",
        "* We will repeat this process till we found the value.\n",
        "* If the algorithm has looked at all the possibilities without founding the value, it will return -1.\n",
        "\n",
        "NB: In binary search, the array is always sorted."
      ],
      "metadata": {
        "id": "iRXt4Nc7gh3e"
      }
    },
    {
      "cell_type": "code",
      "source": [
        "def search(nums, target):\n",
        "  left=0\n",
        "  right=len(nums)-1\n",
        "  while left <=right:\n",
        "      mid=(left+right)//2\n",
        "      if nums[mid]>target:\n",
        "          right=mid-1\n",
        "      elif nums[mid]<target:\n",
        "          left=mid+1\n",
        "      else:\n",
        "          return mid\n",
        "  return -1"
      ],
      "metadata": {
        "id": "zo6QKVI-QgSZ"
      },
      "execution_count": null,
      "outputs": []
    },
    {
      "cell_type": "code",
      "source": [
        "nums = [-1,0,3,5,9,12]\n",
        "target=9"
      ],
      "metadata": {
        "id": "NFXBIJIyjP1x"
      },
      "execution_count": null,
      "outputs": []
    },
    {
      "cell_type": "code",
      "source": [
        "search(nums, target)"
      ],
      "metadata": {
        "colab": {
          "base_uri": "https://localhost:8080/"
        },
        "id": "8OI5ZNWojV4v",
        "outputId": "be72e95c-a04e-44ad-ed50-fac67fc5e988"
      },
      "execution_count": null,
      "outputs": [
        {
          "output_type": "execute_result",
          "data": {
            "text/plain": [
              "4"
            ]
          },
          "metadata": {},
          "execution_count": 16
        }
      ]
    },
    {
      "cell_type": "markdown",
      "source": [
        "### 35. Search Insert Position\n",
        "\n",
        "Given a sorted array of distinct integers and a target value, return the index if the target is found. If not, return the index where it would be if it were inserted in order.\n",
        "\n",
        "You must write an algorithm with O(log n) runtime complexity.\n",
        "\n",
        "Input: $nums = [1,3,5,6]$, $target = 5$\n",
        "Output: $2$\n",
        "\n",
        "### **Summary**\n",
        "\n",
        "The time complexity is $O(logn)$"
      ],
      "metadata": {
        "id": "Z7nlLmFE61HT"
      }
    },
    {
      "cell_type": "code",
      "source": [
        "def searchInsert(nums, target):\n",
        "  left=0\n",
        "  right=len(nums)-1\n",
        "  while left <=right:\n",
        "      mid=(left+right)//2\n",
        "      if nums[mid]>target:\n",
        "          right=mid-1\n",
        "      elif nums[mid]<target:\n",
        "          left=mid+1\n",
        "      else:\n",
        "          return mid\n",
        "  nums.append(target)\n",
        "  nums.sort()\n",
        "  return (nums.index(target))"
      ],
      "metadata": {
        "id": "LryH-r2g61xK"
      },
      "execution_count": null,
      "outputs": []
    },
    {
      "cell_type": "code",
      "source": [
        "nums=[1,3,5,6]\n",
        "target=5\n",
        "print(searchInsert(nums,target))"
      ],
      "metadata": {
        "colab": {
          "base_uri": "https://localhost:8080/"
        },
        "id": "gI0Zm5em8Yuu",
        "outputId": "8774bad3-6c64-4a5a-f11e-d76122c9b887"
      },
      "execution_count": null,
      "outputs": [
        {
          "output_type": "stream",
          "name": "stdout",
          "text": [
            "2\n"
          ]
        }
      ]
    },
    {
      "cell_type": "code",
      "source": [
        "nums=[1,3,5,6]\n",
        "target=7\n",
        "print(searchInsert(nums,target))"
      ],
      "metadata": {
        "colab": {
          "base_uri": "https://localhost:8080/"
        },
        "id": "oACb_J3Y9A9t",
        "outputId": "0acd5b7b-180c-41c6-e2f3-27bbf4d6ed71"
      },
      "execution_count": null,
      "outputs": [
        {
          "output_type": "stream",
          "name": "stdout",
          "text": [
            "4\n"
          ]
        }
      ]
    },
    {
      "cell_type": "markdown",
      "source": [
        "## Another solution"
      ],
      "metadata": {
        "id": "PDcW-iw9-hZE"
      }
    },
    {
      "cell_type": "markdown",
      "source": [
        "We return left because for the target less than the middle value, we move the upper bound (right) to the left otherwise we move the lower bound to the right."
      ],
      "metadata": {
        "id": "mOAdgSaG_qPA"
      }
    },
    {
      "cell_type": "code",
      "source": [
        "def searchInsert(nums, target):\n",
        "  left=0\n",
        "  right=len(nums)-1\n",
        "  while left <=right:\n",
        "      mid=(left+right)//2\n",
        "      if nums[mid]>target:\n",
        "          right=mid-1\n",
        "      elif nums[mid]<target:\n",
        "          left=mid+1\n",
        "      else:\n",
        "          return mid\n",
        "  return left"
      ],
      "metadata": {
        "id": "NI_1Pd6F-K4_"
      },
      "execution_count": null,
      "outputs": []
    },
    {
      "cell_type": "code",
      "source": [
        "nums=[1,3,5,6]\n",
        "target=7\n",
        "print(searchInsert(nums,target))"
      ],
      "metadata": {
        "colab": {
          "base_uri": "https://localhost:8080/"
        },
        "id": "3CwSXCR--Rya",
        "outputId": "e35ac192-0d7e-4766-f3dc-d8b3aa787574"
      },
      "execution_count": null,
      "outputs": [
        {
          "output_type": "stream",
          "name": "stdout",
          "text": [
            "4\n"
          ]
        }
      ]
    },
    {
      "cell_type": "markdown",
      "source": [
        "## 367. Valid Perfect Square\n",
        "\n",
        "Given a positive integer num, write a function which returns $True$ if $num$ is a perfect square else $False$.\n",
        "\n",
        "Follow up: Do not use any built-in library function such as $sqrt$.\n",
        "\n",
        "\n",
        "Input: $num = 16$\n",
        "\n",
        "Output: $true$"
      ],
      "metadata": {
        "id": "WtLi4CfnW_Y6"
      }
    },
    {
      "cell_type": "code",
      "source": [
        "def isPerfectSquare(num):\n",
        "  for el in range(1, num+1):\n",
        "    if el*el==num:\n",
        "      return True\n",
        "    elif el*el>num:\n",
        "      return False"
      ],
      "metadata": {
        "id": "olxCxp7lXW16"
      },
      "execution_count": null,
      "outputs": []
    },
    {
      "cell_type": "code",
      "source": [
        "num=16\n",
        "isPerfectSquare(num)"
      ],
      "metadata": {
        "colab": {
          "base_uri": "https://localhost:8080/"
        },
        "id": "a1gwNDvvYGWH",
        "outputId": "7793e97a-b2af-43cd-a929-6ce5f7b30c94"
      },
      "execution_count": null,
      "outputs": [
        {
          "output_type": "execute_result",
          "data": {
            "text/plain": [
              "True"
            ]
          },
          "metadata": {},
          "execution_count": 9
        }
      ]
    },
    {
      "cell_type": "markdown",
      "source": [
        "Time complexity $O(\\sqrt n)$"
      ],
      "metadata": {
        "id": "lFgq735pYrg7"
      }
    },
    {
      "cell_type": "markdown",
      "source": [
        "Using Binary Search"
      ],
      "metadata": {
        "id": "FyfVk516Y6Uc"
      }
    },
    {
      "cell_type": "code",
      "source": [
        "def isPerfectSquare(num):\n",
        "      \"\"\"\n",
        "      :type num: int\n",
        "      :rtype: bool\n",
        "      \"\"\"\n",
        "      left, right=1,num\n",
        "      while left <=right:\n",
        "          mid=(left+right)//2\n",
        "          if mid*mid>num:\n",
        "            right=mid-1\n",
        "          elif mid*mid<num:\n",
        "            left=mid+1\n",
        "          else:\n",
        "                return True\n",
        "      return False"
      ],
      "metadata": {
        "id": "8D8KpaT1Y5U_"
      },
      "execution_count": null,
      "outputs": []
    },
    {
      "cell_type": "code",
      "source": [
        "num=13\n",
        "isPerfectSquare(num)"
      ],
      "metadata": {
        "id": "bpEpLMl3a-6H",
        "outputId": "38751c02-fb80-4994-a12b-ca5ef51236ff",
        "colab": {
          "base_uri": "https://localhost:8080/"
        }
      },
      "execution_count": null,
      "outputs": [
        {
          "output_type": "execute_result",
          "data": {
            "text/plain": [
              "False"
            ]
          },
          "metadata": {},
          "execution_count": 13
        }
      ]
    },
    {
      "cell_type": "markdown",
      "source": [
        "Time complexity is $O(logn)$"
      ],
      "metadata": {
        "id": "kRyDb5GCazvt"
      }
    },
    {
      "cell_type": "markdown",
      "source": [
        "##896. Monotonic Array\n",
        "\n",
        "An array is monotonic if it is either monotone increasing or monotone decreasing.\n",
        "\n",
        "An array nums is monotone increasing if for all $i <= j$, $nums[i] <= nums[j]$. An array nums is monotone decreasing if for all $i <= j, nums[i] >= nums[j]$.\n",
        "\n",
        "Given an integer array nums, return true if the given array is monotonic, or false otherwise.\n",
        "\n",
        "Input: $nums = [1,2,2,3]$\n",
        "\n",
        "Output: $true$"
      ],
      "metadata": {
        "id": "uK_RpUz1FXTG"
      }
    },
    {
      "cell_type": "code",
      "source": [
        "def isMonotonic(nums):\n",
        "  for i in range(len(nums)-1):\n",
        "    if nums[i] <=nums[i+1]:\n",
        "      True\n",
        "    else:\n",
        "      for j in range(len(nums)-1):\n",
        "        if  nums[j]>=nums[j+1]:\n",
        "          True\n",
        "        else:\n",
        "          return False\n",
        "  return True"
      ],
      "metadata": {
        "id": "fTtyRkXna7pF"
      },
      "execution_count": null,
      "outputs": []
    },
    {
      "cell_type": "code",
      "source": [
        "def solution1(nums):\n",
        "    up, down = True, True\n",
        "    for i in range(1,len(nums)):\n",
        "        if nums[i] < nums[i-1]: up = False\n",
        "        if nums[i] > nums[i-1]: down = False\n",
        "    return up or down"
      ],
      "metadata": {
        "id": "QdFRrtlpOoAR"
      },
      "execution_count": null,
      "outputs": []
    },
    {
      "cell_type": "code",
      "source": [
        "nums = [1,2,2,3]"
      ],
      "metadata": {
        "id": "LH6OjbOgp3fb"
      },
      "execution_count": null,
      "outputs": []
    },
    {
      "cell_type": "code",
      "source": [
        "for i in range(1,len(nums)):\n",
        "  print(i)"
      ],
      "metadata": {
        "colab": {
          "base_uri": "https://localhost:8080/"
        },
        "id": "KYuVK3QSPfPR",
        "outputId": "c3b0dd3d-f312-483d-996d-ebf1ed546eeb"
      },
      "execution_count": null,
      "outputs": [
        {
          "output_type": "stream",
          "name": "stdout",
          "text": [
            "1\n",
            "2\n",
            "3\n"
          ]
        }
      ]
    },
    {
      "cell_type": "code",
      "source": [
        "nums = [1,2,2,3]"
      ],
      "metadata": {
        "id": "3QpomQDvGhSc"
      },
      "execution_count": null,
      "outputs": []
    },
    {
      "cell_type": "code",
      "source": [
        "solution1(nums)"
      ],
      "metadata": {
        "colab": {
          "base_uri": "https://localhost:8080/"
        },
        "id": "FR5vZkoxO2z8",
        "outputId": "c8523770-1884-4f7d-d8ff-b407b3f3f2c8"
      },
      "execution_count": null,
      "outputs": [
        {
          "output_type": "execute_result",
          "data": {
            "text/plain": [
              "True"
            ]
          },
          "metadata": {},
          "execution_count": 136
        }
      ]
    },
    {
      "cell_type": "code",
      "source": [
        "isMonotonic(nums)"
      ],
      "metadata": {
        "colab": {
          "base_uri": "https://localhost:8080/"
        },
        "id": "4BAkn7xmGj9y",
        "outputId": "498d87bc-a477-42eb-afda-7797704e6f10"
      },
      "execution_count": null,
      "outputs": [
        {
          "output_type": "execute_result",
          "data": {
            "text/plain": [
              "True"
            ]
          },
          "metadata": {},
          "execution_count": 105
        }
      ]
    },
    {
      "cell_type": "code",
      "source": [
        "nums = [6,5,4,4]"
      ],
      "metadata": {
        "id": "dQMvonSZGkw8"
      },
      "execution_count": null,
      "outputs": []
    },
    {
      "cell_type": "code",
      "source": [
        "solution1(nums)"
      ],
      "metadata": {
        "colab": {
          "base_uri": "https://localhost:8080/"
        },
        "id": "reM3ak6nO525",
        "outputId": "d4dfc5d3-cf76-40d2-838c-bef30df238b9"
      },
      "execution_count": null,
      "outputs": [
        {
          "output_type": "execute_result",
          "data": {
            "text/plain": [
              "True"
            ]
          },
          "metadata": {},
          "execution_count": 128
        }
      ]
    },
    {
      "cell_type": "code",
      "source": [
        "isMonotonic(nums)"
      ],
      "metadata": {
        "colab": {
          "base_uri": "https://localhost:8080/"
        },
        "id": "6fV9qm1wGsuz",
        "outputId": "8eda69ac-6941-4adc-a87a-83f661642b92"
      },
      "execution_count": null,
      "outputs": [
        {
          "output_type": "execute_result",
          "data": {
            "text/plain": [
              "True"
            ]
          },
          "metadata": {},
          "execution_count": 107
        }
      ]
    },
    {
      "cell_type": "code",
      "source": [
        "nums = [1,3,2]"
      ],
      "metadata": {
        "id": "sPsNkHhaH_gp"
      },
      "execution_count": null,
      "outputs": []
    },
    {
      "cell_type": "code",
      "source": [
        "solution1(nums)"
      ],
      "metadata": {
        "colab": {
          "base_uri": "https://localhost:8080/"
        },
        "id": "0-dGRmiBPFtS",
        "outputId": "134d43dc-3ff3-4bc9-bb1b-9147a9e6e256"
      },
      "execution_count": null,
      "outputs": [
        {
          "output_type": "execute_result",
          "data": {
            "text/plain": [
              "False"
            ]
          },
          "metadata": {},
          "execution_count": 130
        }
      ]
    },
    {
      "cell_type": "code",
      "source": [
        "isMonotonic(nums)"
      ],
      "metadata": {
        "colab": {
          "base_uri": "https://localhost:8080/"
        },
        "id": "3nfqs-zUIBzB",
        "outputId": "9879b0dd-3473-4e21-af3f-2f06920eb74a"
      },
      "execution_count": null,
      "outputs": [
        {
          "output_type": "execute_result",
          "data": {
            "text/plain": [
              "False"
            ]
          },
          "metadata": {},
          "execution_count": 109
        }
      ]
    },
    {
      "cell_type": "markdown",
      "source": [
        "##1. Two Sum\n",
        "\n",
        "Given an array of integers nums and an integer target, return indices of the two numbers such that they add up to target.\n",
        "\n",
        "You may assume that each input would have exactly one solution, and you may not use the same element twice.\n",
        "\n",
        "You can return the answer in any order."
      ],
      "metadata": {
        "id": "z2tg_cb1Maj4"
      }
    },
    {
      "cell_type": "code",
      "source": [
        "def twoSum(nums, target):\n",
        "        \"\"\"\n",
        "        :type nums: List[int]\n",
        "        :type target: int\n",
        "        :rtype: List[int]\n",
        "        \"\"\"\n",
        "        result = {}\n",
        "        for idx, num in enumerate(nums):\n",
        "            if target - num in result:\n",
        "                return result[target-num], idx\n",
        "            result[num] = idx "
      ],
      "metadata": {
        "id": "7Tlm_p0G07PL"
      },
      "execution_count": null,
      "outputs": []
    },
    {
      "cell_type": "code",
      "source": [
        "result = {}\n",
        "for idx, num in enumerate(nums):\n",
        "  print(idx,num)\n",
        "  "
      ],
      "metadata": {
        "colab": {
          "base_uri": "https://localhost:8080/"
        },
        "id": "hD_d5VxZ1N5c",
        "outputId": "da66f97f-1e7b-4557-bccb-ecd8a942ae6f"
      },
      "execution_count": null,
      "outputs": [
        {
          "output_type": "stream",
          "name": "stdout",
          "text": [
            "0 2\n",
            "1 7\n",
            "2 11\n",
            "3 15\n"
          ]
        }
      ]
    },
    {
      "cell_type": "code",
      "source": [
        ""
      ],
      "metadata": {
        "id": "Ma-sYFTM11es"
      },
      "execution_count": null,
      "outputs": []
    },
    {
      "cell_type": "code",
      "source": [
        "nums = [2,7,11,15]\n",
        "target = 9\n",
        "twoSum(nums, target)"
      ],
      "metadata": {
        "colab": {
          "base_uri": "https://localhost:8080/"
        },
        "id": "KT7sRkgr1CLp",
        "outputId": "9c1a48f7-00e8-4196-f2ac-183e62b39101"
      },
      "execution_count": null,
      "outputs": [
        {
          "output_type": "execute_result",
          "data": {
            "text/plain": [
              "(0, 1)"
            ]
          },
          "metadata": {},
          "execution_count": 3
        }
      ]
    },
    {
      "cell_type": "markdown",
      "source": [
        "## 14. Longest Common Prefix\n",
        "\n",
        "Write a function to find the longest common prefix string amongst an array of strings.\n",
        "\n",
        "If there is no common prefix, return an empty string \"\"."
      ],
      "metadata": {
        "id": "JfB9ZsF0ML_n"
      }
    },
    {
      "cell_type": "code",
      "source": [
        "def longestCommonPrefix(strs):\n",
        "    \"\"\"\n",
        "    :type strs: List[str]\n",
        "    :rtype: str\n",
        "    \"\"\"\n",
        "    res=\"\"\n",
        "    for i in range(len(strs[0])):\n",
        "        for word in strs:\n",
        "            if i==len(word) or word[i]!=strs[0][i]:\n",
        "                return res\n",
        "        res+=strs[0][i]\n",
        "    return res"
      ],
      "metadata": {
        "id": "zLru9BiTKsLJ"
      },
      "execution_count": null,
      "outputs": []
    },
    {
      "cell_type": "code",
      "source": [
        "strs = [\"flower\",\"flow\",\"flight\"]\n",
        "longestCommonPrefix(strs)"
      ],
      "metadata": {
        "colab": {
          "base_uri": "https://localhost:8080/",
          "height": 57
        },
        "id": "88qbA7OdK_TU",
        "outputId": "df17c2b1-3398-4b01-e079-dc9a22131fec"
      },
      "execution_count": null,
      "outputs": [
        {
          "output_type": "execute_result",
          "data": {
            "text/plain": [
              "'fl'"
            ],
            "application/vnd.google.colaboratory.intrinsic+json": {
              "type": "string"
            }
          },
          "metadata": {},
          "execution_count": 2
        }
      ]
    },
    {
      "cell_type": "code",
      "source": [
        "def longestCommonPrefix1(strs):\n",
        "    \"\"\"\n",
        "    :type strs: List[str]\n",
        "    :rtype: str\n",
        "    \"\"\"\n",
        "    if len(strs)==0:\n",
        "        return (\"\")\n",
        "    if len(strs)==1:\n",
        "        return (strs[0])\n",
        "    pref=strs[0]\n",
        "    plen=len(pref)\n",
        "    \n",
        "    for s in strs[1:]:\n",
        "        while pref !=s[0:plen]:\n",
        "            pref=pref[0:(plen-1)]\n",
        "            plen-=1\n",
        "            \n",
        "            if plen==0:\n",
        "                return (\"\")\n",
        "    return pref"
      ],
      "metadata": {
        "id": "Fzc4hPEIQVrY"
      },
      "execution_count": null,
      "outputs": []
    },
    {
      "cell_type": "code",
      "source": [
        "strs = [\"flower\",\"flow\",\"flight\"]\n",
        "longestCommonPrefix1(strs)"
      ],
      "metadata": {
        "colab": {
          "base_uri": "https://localhost:8080/",
          "height": 57
        },
        "id": "nRLu8ioLQbWk",
        "outputId": "fb6707b4-24c7-4231-9290-402f7cc1bc66"
      },
      "execution_count": null,
      "outputs": [
        {
          "output_type": "execute_result",
          "data": {
            "text/plain": [
              "'fl'"
            ],
            "application/vnd.google.colaboratory.intrinsic+json": {
              "type": "string"
            }
          },
          "metadata": {},
          "execution_count": 6
        }
      ]
    },
    {
      "cell_type": "markdown",
      "source": [
        "## 13. Roman to Integer\n",
        "\n",
        "Roman numerals are represented by seven different symbols: I, V, X, L, C, D and M.\\\\\n",
        "\n",
        "Symbol      Value\n",
        "I             1\n",
        "V             5\n",
        "X             10\n",
        "L             50\n",
        "C             100\n",
        "D             500\n",
        "M             1000\n",
        "\\\\\n",
        "For example, 2 is written as II in Roman numeral, just two ones added together. 12 is written as XII, which is simply X + II. The number 27 is written as XXVII, which is XX + V + II.\n",
        "\n",
        "Roman numerals are usually written largest to smallest from left to right. However, the numeral for four is not IIII. Instead, the number four is written as IV. Because the one is before the five we subtract it making four. The same principle applies to the number nine, which is written as IX. There are six instances where subtraction is used:\n",
        "\n",
        "I can be placed before V (5) and X (10) to make 4 and 9. \n",
        "X can be placed before L (50) and C (100) to make 40 and 90. \n",
        "C can be placed before D (500) and M (1000) to make 400 and 900.\n",
        "Given a roman numeral, convert it to an integer."
      ],
      "metadata": {
        "id": "0dGrgBCCMBiK"
      }
    },
    {
      "cell_type": "code",
      "source": [
        "def romanToInt(s):\n",
        "    \"\"\"\n",
        "    :type s: str\n",
        "    :rtype: int\n",
        "    \"\"\"\n",
        "    my_dic={'I':1,'V':5,'X':10, 'L':50, 'C':100, 'D':500, 'M':1000}\n",
        "    result=0\n",
        "    for i in range(len(s)):  \n",
        "        if i+1<len(s) and my_dic[s[i]]< my_dic[s[i+1]]:\n",
        "            result-=my_dic[s[i]]\n",
        "        else:\n",
        "            result+=my_dic[s[i]]\n",
        "    return result"
      ],
      "metadata": {
        "id": "XvJT3Qz9fPgX"
      },
      "execution_count": null,
      "outputs": []
    },
    {
      "cell_type": "code",
      "source": [
        "s = \"III\"\n",
        "romanToInt(s)"
      ],
      "metadata": {
        "colab": {
          "base_uri": "https://localhost:8080/"
        },
        "id": "Oj05QF0OfeDM",
        "outputId": "3f8e0caf-3116-4d81-e996-442dca961632"
      },
      "execution_count": null,
      "outputs": [
        {
          "output_type": "execute_result",
          "data": {
            "text/plain": [
              "3"
            ]
          },
          "metadata": {},
          "execution_count": 2
        }
      ]
    },
    {
      "cell_type": "markdown",
      "source": [
        "#104. Maximum Depth of Binary Tree\n",
        "\n",
        "Given the root of a binary tree, return its maximum depth.\n",
        "\n",
        "A binary tree's maximum depth is the number of nodes along the longest path from the root node down to the farthest leaf node."
      ],
      "metadata": {
        "id": "d0Gvo75rlgRk"
      }
    },
    {
      "cell_type": "code",
      "source": [
        "# Definition for a binary tree node.\n",
        "# class TreeNode(object):\n",
        "#     def __init__(self, val=0, left=None, right=None):\n",
        "#         self.val = val\n",
        "#         self.left = left\n",
        "#         self.right = right\n",
        "class Solution(object):\n",
        "    def maxDepth(self, root):\n",
        "        \"\"\"\n",
        "        :type root: TreeNode\n",
        "        :rtype: int\n",
        "        \"\"\"\n",
        "        if root==None:\n",
        "            return 0\n",
        "        else:\n",
        "            return 1+max(self.maxDepth(root.left), self.maxDepth(root.right))"
      ],
      "metadata": {
        "id": "1dCk9YjglbCg"
      },
      "execution_count": null,
      "outputs": []
    },
    {
      "cell_type": "markdown",
      "source": [
        "# 228. Summary Ranges"
      ],
      "metadata": {
        "id": "M8zxrB9jmnLf"
      }
    },
    {
      "cell_type": "markdown",
      "source": [
        "You are given a sorted unique integer array nums.\n",
        "\n",
        "A range $[a,b]$ is the set of all integers from a to b (inclusive).\n",
        "\n",
        "Return the smallest sorted list of ranges that cover all the numbers in the array exactly. That is, each element of nums is covered by exactly one of the ranges, and there is no integer x such that x is in one of the ranges but not in nums.\n",
        "\n",
        "Each range $[a,b]$ in the list should be output as:\n",
        "\n",
        "\"a->b\" if a != b\n",
        "\"a\" if a == b"
      ],
      "metadata": {
        "id": "G4WmYdNlmtsz"
      }
    },
    {
      "cell_type": "code",
      "source": [
        "def summaryRanges(nums):\n",
        "    \"\"\"\n",
        "    :type nums: List[int]\n",
        "    :rtype: List[str]\n",
        "    \n",
        "    \"\"\"\n",
        "    start_index = 0\n",
        "    result = []\n",
        "\n",
        "    for i in range(len(nums)):\n",
        "        # Find last index for continuous series\n",
        "        if i + 1 < len(nums) and nums[i] + 1 == nums[i+1]:\n",
        "            continue\n",
        "\n",
        "        if start_index == i:\n",
        "            result.append(str(nums[start_index]))\n",
        "        else:\n",
        "            result.append(str(nums[start_index]) + \"->\" + str(nums[i]))\n",
        "\n",
        "        start_index = i + 1\n",
        "\n",
        "    return result\n",
        "                \n",
        "        "
      ],
      "metadata": {
        "id": "wXJ422S9ka4D"
      },
      "execution_count": null,
      "outputs": []
    },
    {
      "cell_type": "markdown",
      "source": [
        "# 303. Range Sum Query - Immutable"
      ],
      "metadata": {
        "id": "UOvwVo0pfln7"
      }
    },
    {
      "cell_type": "markdown",
      "source": [
        "Given an integer array nums, handle multiple queries of the following type:\n",
        "\n",
        "Calculate the sum of the elements of nums between indices left and right inclusive where left <= right.\n",
        "Implement the NumArray class:\n",
        "\n",
        "NumArray(int[] nums) Initializes the object with the integer array nums.\n",
        "int sumRange(int left, int right) Returns the sum of the elements of nums between indices left and right inclusive (i.e. nums[left] + nums[left + 1] + ... + nums[right]).\n",
        "\n",
        "Input\n",
        "\n",
        "$[\"NumArray\", \"sumRange\", \"sumRange\", \"sumRange\"]$\n",
        "\n",
        "$[[[-2, 0, 3, -5, 2, -1]], [0, 2], [2, 5], [0, 5]]$\n",
        "\n",
        "Output\n",
        "\n",
        "$[null, 1, -1, -3]$"
      ],
      "metadata": {
        "id": "UhuTd-xWd800"
      }
    },
    {
      "cell_type": "code",
      "source": [
        "class NumArray(object):\n",
        "\n",
        "    def __init__(self, nums):\n",
        "        \"\"\"\n",
        "        :type nums: List[int]\n",
        "        [-2, 0, 3, -5, 2, -1]\n",
        "        #[0,-2,-2,1,-4,2,1 ]\n",
        "        [0,1,2,3,4,5,6]\n",
        "        [0,-2,-2]\n",
        "        \"\"\"\n",
        "        self.acc=[0]\n",
        "        for num in nums:\n",
        "            self.acc.append(self.acc[-1]+num)\n",
        "       \n",
        "\n",
        "    def sumRange(self, left, right):\n",
        "        \"\"\"\n",
        "        :type left: int\n",
        "        :type right: int\n",
        "        :rtype: int\n",
        "        \"\"\"\n",
        "        return self.acc[right+1]-self.acc[left]\n",
        "       "
      ],
      "metadata": {
        "id": "Ak9HlqLmtXYa"
      },
      "execution_count": null,
      "outputs": []
    },
    {
      "cell_type": "markdown",
      "source": [
        "# 453. Minimum Moves to Equal Array Elements (medium)"
      ],
      "metadata": {
        "id": "Qc9UqOkixfSR"
      }
    },
    {
      "cell_type": "markdown",
      "source": [
        "Given an integer array nums of size n, return the minimum number of moves required to make all array elements equal.\n",
        "\n",
        "In one move, you can increment $n - 1$ elements of the array by 1."
      ],
      "metadata": {
        "id": "ttGDNdz8xk8z"
      }
    },
    {
      "cell_type": "markdown",
      "source": [
        "Input: $nums = [1,2,3]$\n",
        "\n",
        "Output: 3\n",
        "\n",
        "Explanation: Only three moves are needed (remember each move increments two elements):\n",
        "\n",
        "$[1,2,3]  =>  [2,3,3]  =>  [3,4,3]  =>  [4,4,4]$"
      ],
      "metadata": {
        "id": "4MhE7805xw8P"
      }
    },
    {
      "cell_type": "code",
      "source": [
        "def minMoves( nums):\n",
        "        \"\"\"\n",
        "        :type nums: List[int]\n",
        "        :rtype: int\n",
        "        [1,2,3]=[2,3,3]\n",
        "        \"\"\"\n",
        "        target=min(nums)\n",
        "        \n",
        "        return sum((abs(target-i) for i in nums))"
      ],
      "metadata": {
        "id": "IlaWm9T-s17z"
      },
      "execution_count": null,
      "outputs": []
    }
  ]
}