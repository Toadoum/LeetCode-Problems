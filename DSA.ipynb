{
  "nbformat": 4,
  "nbformat_minor": 0,
  "metadata": {
    "colab": {
      "name": "DSA.ipynb",
      "provenance": [],
      "authorship_tag": "ABX9TyPYo6RtUn9qHVplNglf5nZ3",
      "include_colab_link": true
    },
    "kernelspec": {
      "name": "python3",
      "display_name": "Python 3"
    },
    "language_info": {
      "name": "python"
    }
  },
  "cells": [
    {
      "cell_type": "markdown",
      "metadata": {
        "id": "view-in-github",
        "colab_type": "text"
      },
      "source": [
        "<a href=\"https://colab.research.google.com/github/Toadoum/LeetCode-Problems/blob/main/DSA.ipynb\" target=\"_parent\"><img src=\"https://colab.research.google.com/assets/colab-badge.svg\" alt=\"Open In Colab\"/></a>"
      ]
    },
    {
      "cell_type": "markdown",
      "source": [
        "# **ARRAYS**"
      ],
      "metadata": {
        "id": "_acPkYlj9cKc"
      }
    },
    {
      "cell_type": "markdown",
      "source": [
        "## LEVEL: EASY"
      ],
      "metadata": {
        "id": "WHeU45TE-EOi"
      }
    },
    {
      "cell_type": "markdown",
      "source": [
        "### Merge two sorted arrays, LeetCode Problem 88\n",
        "\n",
        "You are given two integer arrays $nums1$ and $nums2$, sorted in non-decreasing order, and two integers $m$ and $n$, representing the number of elements in $nums1$ and $nums2$ respectively.\n",
        "\n",
        "Merge $nums1$ and $nums2$ into a single array sorted in non-decreasing order.\n",
        "\n",
        "The final sorted array should not be returned by the function, but instead be stored inside the array nums1. To accommodate this, $nums1$ has a length of $m + n$, where the first $m$ elements denote the elements that should be merged, and the last $n$ elements are set to $0$ and should be ignored. $nums2$ has a length of $n$.\n",
        "\n",
        "Input: $nums1 = [1,2,3,0,0,0]$, $m = 3$, $nums2 = [2,5,6]$, $n = 3$\n",
        "\n",
        "Output: [1,2,2,3,5,6]\n",
        "\n",
        "Explanation: The arrays we are merging are [1,2,3] and [2,5,6].\n",
        "The result of the merge is $[1,2,2,3,5,6]$ with the underlined elements coming from nums1.\n",
        "\n",
        "### **Summary**\n",
        "\n",
        "We are dealing with a sorted array and the problem should be solved in place (by adding elements to the first list because it has enough space to store elements of the second list). We use two pointers $m$ for elements that are already in nums1 and $n$ for elements in nums2 to help us make a comparison between elements and insert them in the right place or move them in case the integer is not in the right place. For moving, we use the variable $idx=len(nums1)-1$ because index start at zero, the same thing for the two pointers $m$ and $n$. The philosophy here is that, as long as $m$ and $n$ are greater than zero and we will compare elements from the two lists and store them and the decrement pointers based on the true condition. for instance if $nums1[m-1]>nums[n-1]$, we will store the element before in nums1 and decrement the pointer $n$. The time complexity is $O(n\\times m)$"
      ],
      "metadata": {
        "id": "ChTTGrrTsDBQ"
      }
    },
    {
      "cell_type": "code",
      "execution_count": null,
      "metadata": {
        "id": "ZSbL_Nikr_77"
      },
      "outputs": [],
      "source": [
        "def merge_sort(nums1,nums2,n,m):\n",
        "  idx=len(nums1)-1\n",
        "  while n>0 and m>0:\n",
        "    #As long as the condition is true, we will take elements for nums1\n",
        "    if nums1[m-1]>nums2[n-1]:\n",
        "      nums1[idx]=nums1[m-1]\n",
        "      m-=1 \n",
        "    else:\n",
        "      nums1[idx]=nums2[n-1]\n",
        "      n-=1\n",
        "    idx-=1\n",
        "  #this is to handle the case where the smallest value will be in the second list\n",
        "  #we are working inplace\n",
        "  while n>0:\n",
        "      nums1[idx]=nums2[n]\n",
        "      n,idx=n-1,idx-1"
      ]
    },
    {
      "cell_type": "code",
      "source": [
        "nums1=[1,2,3,0,0,0]\n",
        "nums2=[2,5,6]"
      ],
      "metadata": {
        "id": "BOM4GmOm7kaa"
      },
      "execution_count": null,
      "outputs": []
    },
    {
      "cell_type": "code",
      "source": [
        "merge_sort(nums1,nums2,3,3)"
      ],
      "metadata": {
        "id": "8eBI4fGt78cm"
      },
      "execution_count": null,
      "outputs": []
    },
    {
      "cell_type": "code",
      "source": [
        "print(nums1)"
      ],
      "metadata": {
        "colab": {
          "base_uri": "https://localhost:8080/"
        },
        "id": "EdjTn2lrAYvi",
        "outputId": "d03503d2-f88e-4716-95a4-b681dc3aa2ba"
      },
      "execution_count": null,
      "outputs": [
        {
          "output_type": "stream",
          "name": "stdout",
          "text": [
            "[1, 2, 2, 3, 5, 6]\n"
          ]
        }
      ]
    },
    {
      "cell_type": "markdown",
      "source": [
        "### 977. Squares of a Sorted Array\n",
        "\n",
        "Given an integer array nums sorted in non-decreasing order, return an array of the squares of each number sorted in non-decreasing order.\n",
        "\n",
        "Input: $nums = [-4,-1,0,3,10]$\n",
        "\n",
        "Output: $[0,1,9,16,100]$\n",
        "\n",
        "Explanation: After squaring, the array becomes $[16,1,0,9,100]$.\n",
        "After sorting, it becomes $[0,1,9,16,100]$."
      ],
      "metadata": {
        "id": "eFjl0OmLFh0D"
      }
    },
    {
      "cell_type": "markdown",
      "source": [
        "### **Summary**\n",
        "\n",
        "Here we loop over the list and for each element in the list, we take the square and we return a sorted list. The time complexity is $O(n)$."
      ],
      "metadata": {
        "id": "7Ip8wNUpH__u"
      }
    },
    {
      "cell_type": "code",
      "source": [
        "def sortedSquares(nums):\n",
        "        \"\"\"\n",
        "        :type nums: List[int]\n",
        "        :rtype: List[int]\n",
        "        \"\"\"\n",
        "        square_list=[num**2 for num in nums]\n",
        "        return sorted(square_list)\n"
      ],
      "metadata": {
        "id": "Cl_wutrVGKf1"
      },
      "execution_count": null,
      "outputs": []
    },
    {
      "cell_type": "code",
      "source": [
        "nums = [-4,-1,0,3,10]"
      ],
      "metadata": {
        "id": "0v8o_HfiGXeH"
      },
      "execution_count": null,
      "outputs": []
    },
    {
      "cell_type": "code",
      "source": [
        "sortedSquares(nums)"
      ],
      "metadata": {
        "colab": {
          "base_uri": "https://localhost:8080/"
        },
        "id": "hjdO9uihGj6b",
        "outputId": "ccf5f571-40d7-4aef-e8b7-37643cd0b20c"
      },
      "execution_count": null,
      "outputs": [
        {
          "output_type": "execute_result",
          "data": {
            "text/plain": [
              "[0, 1, 9, 16, 100]"
            ]
          },
          "metadata": {},
          "execution_count": 17
        }
      ]
    },
    {
      "cell_type": "markdown",
      "source": [
        "### Remove duplicates from sorted array\n",
        "\n",
        "Given an integer array nums sorted in non-decreasing order, remove the duplicates in-place such that each unique element appears only once. The relative order of the elements should be kept the same.\n",
        "\n",
        "Since it is impossible to change the length of the array in some languages, you must instead have the result be placed in the first part of the array nums. More formally, if there are $k$ elements after removing the duplicates, then the first $k$ elements of nums should hold the final result. It does not matter what you leave beyond the first $k$ elements.\n",
        "\n",
        "Return k after placing the final result in the first k slots of nums.\n",
        "\n",
        "Do not allocate extra space for another array. You must do this by modifying the input array inplace with $O(1)$ extra memory.\n",
        "\n",
        "Input: $nums = [1,1,2]$\n",
        "\n",
        "Output: $2$, $nums = [1,2,\\_]$\n",
        "Explanation: Your function should return $k = 2$, with the first two elements of nums being $1$ and $2$ respectively.\n",
        "It does not matter what you leave beyond the returned k (hence they are underscores).\n",
        "\n"
      ],
      "metadata": {
        "id": "ygeLSkmUCBXF"
      }
    },
    {
      "cell_type": "markdown",
      "source": [
        "### **Summary**\n",
        "\n",
        "Here the problem is simple, as the index starts by zero and, we just create a variable that takes the values that is the range of the length of the list -1 one but in reverse order to avoid out of index error. We will just check from the last to the beginning two by two integers and delete one if they are the same. The time complexity is $O(n)$"
      ],
      "metadata": {
        "id": "qnrZ6w-tG6Hh"
      }
    },
    {
      "cell_type": "code",
      "source": [
        "def R_duplicates(nums):\n",
        "    for i in range(len(nums)-1,0,-1):\n",
        "        if nums[i] == nums[i-1]:\n",
        "            del nums[i]"
      ],
      "metadata": {
        "id": "jDa3VkbwCu_i"
      },
      "execution_count": null,
      "outputs": []
    },
    {
      "cell_type": "code",
      "source": [
        "nums=[1,1,2]"
      ],
      "metadata": {
        "id": "lIcmlqJmDy6x"
      },
      "execution_count": null,
      "outputs": []
    },
    {
      "cell_type": "code",
      "source": [
        "R_duplicates(nums)"
      ],
      "metadata": {
        "id": "F7avQpYMD6sE"
      },
      "execution_count": null,
      "outputs": []
    },
    {
      "cell_type": "code",
      "source": [
        "print(nums)"
      ],
      "metadata": {
        "colab": {
          "base_uri": "https://localhost:8080/"
        },
        "id": "YqkXEIGHELIc",
        "outputId": "98366c8a-17c9-45b2-d9f1-fcbea20a239d"
      },
      "execution_count": null,
      "outputs": [
        {
          "output_type": "stream",
          "name": "stdout",
          "text": [
            "[1, 2]\n"
          ]
        }
      ]
    },
    {
      "cell_type": "code",
      "source": [
        "num=[0,0,1,1,1,2,2,3,3,4]"
      ],
      "metadata": {
        "id": "ckB3CVHSEN3X"
      },
      "execution_count": null,
      "outputs": []
    },
    {
      "cell_type": "code",
      "source": [
        "R_duplicates(num)"
      ],
      "metadata": {
        "id": "XEVNyiTdEZo1"
      },
      "execution_count": null,
      "outputs": []
    },
    {
      "cell_type": "code",
      "source": [
        "print(num)"
      ],
      "metadata": {
        "colab": {
          "base_uri": "https://localhost:8080/"
        },
        "id": "1-ezOcO3Eizk",
        "outputId": "415a6443-0f19-4bf7-bb7a-2f370018da41"
      },
      "execution_count": null,
      "outputs": [
        {
          "output_type": "stream",
          "name": "stdout",
          "text": [
            "[0, 1, 2, 3, 4]\n"
          ]
        }
      ]
    },
    {
      "cell_type": "markdown",
      "source": [
        "### 35. Search Insert Position\n",
        "\n",
        "Given a sorted array of distinct integers and a target value, return the index if the target is found. If not, return the index where it would be if it were inserted in order.\n",
        "\n",
        "You must write an algorithm with O(log n) runtime complexity.\n",
        "\n",
        "Input: $nums = [1,3,5,6]$, $target = 5$\n",
        "Output: $2$\n",
        "\n",
        "### **Summary**\n",
        "\n",
        "Here we test for an element in a list, if this element equal to the target, we return his index, if not, we append the new element to the list and return his index. The time complexity is $O(1)$"
      ],
      "metadata": {
        "id": "JNLgj0Wuy1Ae"
      }
    },
    {
      "cell_type": "code",
      "source": [
        "def searchInsert(nums, target):\n",
        "    if target in nums:\n",
        "        return nums.index(target)\n",
        "    else:\n",
        "        nums.append(target)\n",
        "        nums.sort()\n",
        "        return(nums.index(target))"
      ],
      "metadata": {
        "id": "jyQrjGYFydBO"
      },
      "execution_count": null,
      "outputs": []
    },
    {
      "cell_type": "code",
      "source": [
        "nums=[1,3,5,6]\n",
        "target=5\n",
        "print(searchInsert(nums,target))"
      ],
      "metadata": {
        "colab": {
          "base_uri": "https://localhost:8080/"
        },
        "id": "FJ7fwhgozmq3",
        "outputId": "ec6173a2-93f0-44d5-acff-902054fce521"
      },
      "execution_count": null,
      "outputs": [
        {
          "output_type": "stream",
          "name": "stdout",
          "text": [
            "2\n"
          ]
        }
      ]
    },
    {
      "cell_type": "markdown",
      "source": [
        "## 53. Maximum Subarray\n",
        "\n",
        "Given an integer array nums, find the contiguous subarray (containing at least one number) which has the largest sum and return its sum.\n",
        "\n",
        "A subarray is a contiguous part of an array."
      ],
      "metadata": {
        "id": "IBnKFrTa9wXT"
      }
    },
    {
      "cell_type": "markdown",
      "source": [
        "Input: $nums = [-2,1,-3,4,-1,2,1,-5,4]$\n",
        "\n",
        "Output: $6$\n",
        "\n",
        "Explanation: $[4,-1,2,1]$ has the largest $sum = 6$."
      ],
      "metadata": {
        "id": "5OpO1YTA-PgI"
      }
    },
    {
      "cell_type": "markdown",
      "source": [
        "### **Summary**\n",
        "\n",
        "This function is simple. To get a subarray with a maximum sum, we start by assigning the first element in the list as a maximum now we will slide the window in the whole list with a step of one. We add one value to the initial value. If the result is less than one we reset the variable to zero and we take the maximum between the this variable and the result of our sum till the end of the list till we return only the maximum value. The time complexity is $O(n)$ because of the for loop"
      ],
      "metadata": {
        "id": "URtxyjIxkkQw"
      }
    },
    {
      "cell_type": "code",
      "source": [
        "def maxSubArray(nums):\n",
        "    \"\"\"\n",
        "    :type nums: List[int]\n",
        "    :rtype: int\n",
        "    \"\"\"\n",
        "    maxsub=nums[0]\n",
        "    Sum=0\n",
        "    for i in nums:\n",
        "        if Sum<0:\n",
        "            Sum=0\n",
        "        Sum+=i\n",
        "        maxsub=max(maxsub,Sum)\n",
        "    return maxsub"
      ],
      "metadata": {
        "id": "3YvNiqV27tKS"
      },
      "execution_count": null,
      "outputs": []
    },
    {
      "cell_type": "code",
      "source": [
        "nums = [-2,1,-3,4,-1,2,1,-5,4]"
      ],
      "metadata": {
        "id": "dpigz9n-_ZA_"
      },
      "execution_count": null,
      "outputs": []
    },
    {
      "cell_type": "code",
      "source": [
        "maxSubArray(nums)"
      ],
      "metadata": {
        "colab": {
          "base_uri": "https://localhost:8080/"
        },
        "id": "h882UTiL_ehq",
        "outputId": "d628e9a9-d706-4bf2-bf0a-4df5241d09c5"
      },
      "execution_count": null,
      "outputs": [
        {
          "output_type": "execute_result",
          "data": {
            "text/plain": [
              "6"
            ]
          },
          "metadata": {},
          "execution_count": 3
        }
      ]
    },
    {
      "cell_type": "markdown",
      "source": [
        "### 169. Majority Element"
      ],
      "metadata": {
        "id": "dxy2a1pA7zzg"
      }
    },
    {
      "cell_type": "markdown",
      "source": [
        "Given an array nums of size n, return the majority element.\n",
        "\n",
        "The majority element is the element that appears more than $[n / 2]$ times. You may assume that the majority element always exists in the array.\n",
        "\n",
        "Input: $nums = [3,2,3]$\n",
        "\n",
        "Output: $3$\n"
      ],
      "metadata": {
        "id": "uPkrLCzQk0BR"
      }
    },
    {
      "cell_type": "markdown",
      "source": [
        "This solution will give Time Limit Exceeded in Leetcode"
      ],
      "metadata": {
        "id": "SzceGeLB2Qvq"
      }
    },
    {
      "cell_type": "markdown",
      "source": [
        "### **Summary**\n",
        "\n",
        "The simplest solution here is to sort the array and return the array at the position $len(nums)//2$ because by sorting the array, are sure that at $len(nums)//2$ we have the majority element.\n",
        "\n",
        "The fastest solution is using dictionnary. We just initialize a dictionnary by checking if an element is not in the dictionary, we append one (incrementation) as value and we check everytime if the value for this element is greater than $len(nums)//2$ if it is, then it is our majority element. The time complexity is $O(n)$."
      ],
      "metadata": {
        "id": "fINDVv0gk71i"
      }
    },
    {
      "cell_type": "code",
      "source": [
        "def majorityElement(nums):\n",
        "  \"\"\"\n",
        "  :type nums: List[int]\n",
        "  :rtype: int\n",
        "  \"\"\"\n",
        "  my_dic = {ele:nums.count(ele) for ele in nums}\n",
        "  v = list(my_dic.values())\n",
        "  k = list(my_dic.keys())\n",
        "  return k[v.index(max(v))]"
      ],
      "metadata": {
        "id": "_0l0DxTM9aOr"
      },
      "execution_count": null,
      "outputs": []
    },
    {
      "cell_type": "code",
      "source": [
        "nums = [3,2,3]"
      ],
      "metadata": {
        "id": "kZgRSdjfqGf7"
      },
      "execution_count": null,
      "outputs": []
    },
    {
      "cell_type": "code",
      "source": [
        "majorityElement(nums)"
      ],
      "metadata": {
        "colab": {
          "base_uri": "https://localhost:8080/"
        },
        "id": "If66xuEpqBhS",
        "outputId": "8e03f356-e748-497d-c440-933ff394ae4d"
      },
      "execution_count": null,
      "outputs": [
        {
          "output_type": "execute_result",
          "data": {
            "text/plain": [
              "3"
            ]
          },
          "metadata": {},
          "execution_count": 58
        }
      ]
    },
    {
      "cell_type": "code",
      "source": [
        "nums1=[2,2,1,1,1,2,2]"
      ],
      "metadata": {
        "id": "fuZU-rySu4Fg"
      },
      "execution_count": null,
      "outputs": []
    },
    {
      "cell_type": "code",
      "source": [
        "majorityElement(nums1)"
      ],
      "metadata": {
        "colab": {
          "base_uri": "https://localhost:8080/"
        },
        "id": "6-eTEIfgu9pd",
        "outputId": "c4d000c1-9adc-4599-90d8-d9cd28ee78dd"
      },
      "execution_count": null,
      "outputs": [
        {
          "output_type": "execute_result",
          "data": {
            "text/plain": [
              "2"
            ]
          },
          "metadata": {},
          "execution_count": 60
        }
      ]
    },
    {
      "cell_type": "code",
      "source": [
        "def majorityElement(nums):\n",
        "    \"\"\"\n",
        "    :type nums: List[int]\n",
        "    :rtype: int\n",
        "    \"\"\"\n",
        "    my_dic={}\n",
        "    for num in nums:\n",
        "        if num not in my_dic:\n",
        "            my_dic[num]=1\n",
        "        if my_dic[num]>len(nums)//2:\n",
        "            return num\n",
        "        else:\n",
        "            my_dic[num]+=1"
      ],
      "metadata": {
        "id": "y6grGK3kkFdU"
      },
      "execution_count": null,
      "outputs": []
    },
    {
      "cell_type": "code",
      "source": [
        "nums1=[2,2,1,1,1,2,2]"
      ],
      "metadata": {
        "id": "PpxN2872krKi"
      },
      "execution_count": null,
      "outputs": []
    },
    {
      "cell_type": "code",
      "source": [
        "majorityElement(nums1)"
      ],
      "metadata": {
        "colab": {
          "base_uri": "https://localhost:8080/"
        },
        "id": "bj7HTrafkujw",
        "outputId": "5904b687-5801-44c7-bc3f-12972d8aac91"
      },
      "execution_count": null,
      "outputs": [
        {
          "output_type": "execute_result",
          "data": {
            "text/plain": [
              "2"
            ]
          },
          "metadata": {},
          "execution_count": 3
        }
      ]
    },
    {
      "cell_type": "code",
      "source": [
        "def majorityElement(nums):\n",
        "    \"\"\"\n",
        "    :type nums: List[int]\n",
        "    :rtype: int\n",
        "    \"\"\"\n",
        "    nums.sort()\n",
        "    return nums[len(nums)//2]"
      ],
      "metadata": {
        "id": "CUMxspOSkhTF"
      },
      "execution_count": null,
      "outputs": []
    },
    {
      "cell_type": "code",
      "source": [
        "nums1=[2,2,1,1,1,2,2]\n",
        "nums1.sort()\n",
        "nums1"
      ],
      "metadata": {
        "colab": {
          "base_uri": "https://localhost:8080/"
        },
        "id": "MEU1oA4mkw9s",
        "outputId": "f1896a22-9120-4c19-bd3c-a7d49bf86f85"
      },
      "execution_count": null,
      "outputs": [
        {
          "output_type": "execute_result",
          "data": {
            "text/plain": [
              "[1, 1, 1, 2, 2, 2, 2]"
            ]
          },
          "metadata": {},
          "execution_count": 9
        }
      ]
    },
    {
      "cell_type": "code",
      "source": [
        "majorityElement(nums1)"
      ],
      "metadata": {
        "colab": {
          "base_uri": "https://localhost:8080/"
        },
        "id": "liQVQXJBk3Xy",
        "outputId": "358db0f4-44b4-4c9c-8b97-54f05bf9b677"
      },
      "execution_count": null,
      "outputs": [
        {
          "output_type": "execute_result",
          "data": {
            "text/plain": [
              "2"
            ]
          },
          "metadata": {},
          "execution_count": 6
        }
      ]
    },
    {
      "cell_type": "markdown",
      "source": [
        "## LEVEL: MEDIUM"
      ],
      "metadata": {
        "id": "OI9J4O5cRrsJ"
      }
    },
    {
      "cell_type": "markdown",
      "source": [
        "## 238. Product of Array Except Self\n",
        "\n",
        "Given an integer array nums, return an array answer such that answer[i] is equal to the product of all the elements of nums except $nums[i]$.\n",
        "\n",
        "The product of any prefix or suffix of nums is guaranteed to fit in a 32-bit integer.\n",
        "\n",
        "You must write an algorithm that runs in $O(n)$ time and without using the division operation.\n",
        "\n"
      ],
      "metadata": {
        "id": "JXbFps74PfXu"
      }
    },
    {
      "cell_type": "markdown",
      "source": [
        "\n",
        "Input: $nums = [1,2,3,4]$\n",
        "\n",
        "Output: $[24,12,8,6]$"
      ],
      "metadata": {
        "id": "TQmOmyhrP7EW"
      }
    },
    {
      "cell_type": "markdown",
      "source": [
        "### **Summary**"
      ],
      "metadata": {
        "id": "G6CAmUgEP9Fi"
      }
    },
    {
      "cell_type": "code",
      "source": [
        "def productExceptSelf(nums):\n",
        "    \"\"\"\n",
        "    :type nums: List[int]\n",
        "    :rtype: List[int]\n",
        "    \"\"\"\n",
        "    n=len(nums)\n",
        "    output=[]\n",
        "    p=1\n",
        "      #scan from left to i\n",
        "    for i in range(n):\n",
        "        output.append(p)\n",
        "        p = p * nums[i]\n",
        "    p = 1\n",
        "    #scan from right to i\n",
        "    for i in range(n-1,-1,-1):\n",
        "        output[i] = output[i] * p\n",
        "        p = p * nums[i]\n",
        "    return output"
      ],
      "metadata": {
        "id": "JUBrbWoYPJan"
      },
      "execution_count": null,
      "outputs": []
    },
    {
      "cell_type": "code",
      "source": [
        "nums = [1,2,3,4]"
      ],
      "metadata": {
        "id": "_Xas7V0fQXpc"
      },
      "execution_count": null,
      "outputs": []
    },
    {
      "cell_type": "code",
      "source": [
        "productExceptSelf(nums)"
      ],
      "metadata": {
        "colab": {
          "base_uri": "https://localhost:8080/"
        },
        "id": "6d3Ywlw_QaTN",
        "outputId": "9236adde-3aac-4f3e-9a2f-7c7b350306e9"
      },
      "execution_count": null,
      "outputs": [
        {
          "output_type": "execute_result",
          "data": {
            "text/plain": [
              "[24, 12, 8, 6]"
            ]
          },
          "metadata": {},
          "execution_count": 3
        }
      ]
    },
    {
      "cell_type": "markdown",
      "source": [
        "# **BINARY SEARCH**"
      ],
      "metadata": {
        "id": "Nad8hct8Qbau"
      }
    },
    {
      "cell_type": "markdown",
      "source": [
        "## 704. Binary Search"
      ],
      "metadata": {
        "id": "PtGY51VmkJqh"
      }
    },
    {
      "cell_type": "markdown",
      "source": [
        "Given an array of integers nums which is sorted in ascending order, and an integer target, write a function to search target in nums. If target exists, then return its index. Otherwise, return $-1$.\n",
        "\n",
        "You must write an algorithm with $O(log n)$ runtime complexity."
      ],
      "metadata": {
        "id": "6zpQ9OVQgGDl"
      }
    },
    {
      "cell_type": "markdown",
      "source": [
        "Input: $nums = [-1,0,3,5,9,12]$, $target = 9$\n",
        "\n",
        "Output: $4$\n",
        "\n",
        "Explanation: $9$ exists in nums and its index is $4$"
      ],
      "metadata": {
        "id": "TezzWb-WgUzV"
      }
    },
    {
      "cell_type": "markdown",
      "source": [
        "## **Summary**\n",
        "\n",
        "In binary search algorithm, the algorithm work at follows:\n",
        "* We initialize three-pointers: the upper bound, the lower bound, and the middle.\n",
        "* We check if the value of the array at the index middle is the value we are looking for.\n",
        "* If the value is less than the value we are looking for, then we will change the lower bound to the position middle+1 (because all the values from the middle till the beginning are smaller than the target). If it is not the case then the value is greater than the target, we will shift the upper bound to the position middle-1.\n",
        "* We will repeat this process till we found the value.\n",
        "* If the algorithm has looked at all the possibilities without founding the value, it will return -1.\n",
        "\n",
        "NB: In binary search, the array is always sorted."
      ],
      "metadata": {
        "id": "iRXt4Nc7gh3e"
      }
    },
    {
      "cell_type": "code",
      "source": [
        "def search(nums, target):\n",
        "  left=0\n",
        "  right=len(nums)-1\n",
        "  while left <=right:\n",
        "      mid=(left+right)//2\n",
        "      if nums[mid]>target:\n",
        "          right=mid-1\n",
        "      elif nums[mid]<target:\n",
        "          left=mid+1\n",
        "      else:\n",
        "          return mid\n",
        "  return -1"
      ],
      "metadata": {
        "id": "zo6QKVI-QgSZ"
      },
      "execution_count": 14,
      "outputs": []
    },
    {
      "cell_type": "code",
      "source": [
        "nums = [-1,0,3,5,9,12]\n",
        "target=9"
      ],
      "metadata": {
        "id": "NFXBIJIyjP1x"
      },
      "execution_count": 15,
      "outputs": []
    },
    {
      "cell_type": "code",
      "source": [
        "search(nums, target)"
      ],
      "metadata": {
        "colab": {
          "base_uri": "https://localhost:8080/"
        },
        "id": "8OI5ZNWojV4v",
        "outputId": "be72e95c-a04e-44ad-ed50-fac67fc5e988"
      },
      "execution_count": 16,
      "outputs": [
        {
          "output_type": "execute_result",
          "data": {
            "text/plain": [
              "4"
            ]
          },
          "metadata": {},
          "execution_count": 16
        }
      ]
    }
  ]
}